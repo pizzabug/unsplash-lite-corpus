{
 "cells": [
  {
   "cell_type": "code",
   "execution_count": null,
   "metadata": {},
   "outputs": [],
   "source": [
    "! pip install clip-client ijson"
   ]
  },
  {
   "cell_type": "code",
   "execution_count": 7,
   "metadata": {},
   "outputs": [
    {
     "ename": "ValueError",
     "evalue": "unknown file extension: .png to disk",
     "output_type": "error",
     "traceback": [
      "\u001b[1;31m---------------------------------------------------------------------------\u001b[0m",
      "\u001b[1;31mKeyError\u001b[0m                                  Traceback (most recent call last)",
      "File \u001b[1;32mg:\\Miniconda\\miniconda3-windows\\lib\\site-packages\\PIL\\Image.py:2298\u001b[0m, in \u001b[0;36mImage.save\u001b[1;34m(self, fp, format, **params)\u001b[0m\n\u001b[0;32m   2297\u001b[0m \u001b[39mtry\u001b[39;00m:\n\u001b[1;32m-> 2298\u001b[0m     \u001b[39mformat\u001b[39m \u001b[39m=\u001b[39m EXTENSION[ext]\n\u001b[0;32m   2299\u001b[0m \u001b[39mexcept\u001b[39;00m \u001b[39mKeyError\u001b[39;00m \u001b[39mas\u001b[39;00m e:\n",
      "\u001b[1;31mKeyError\u001b[0m: '.png to disk'",
      "\nThe above exception was the direct cause of the following exception:\n",
      "\u001b[1;31mValueError\u001b[0m                                Traceback (most recent call last)",
      "Cell \u001b[1;32mIn[7], line 51\u001b[0m\n\u001b[0;32m     48\u001b[0m     image \u001b[39m=\u001b[39m image\u001b[39m.\u001b[39mresize((\u001b[39m512\u001b[39m, \u001b[39m512\u001b[39m),resample\u001b[39m=\u001b[39mImage\u001b[39m.\u001b[39mDither\u001b[39m.\u001b[39mNONE)\n\u001b[0;32m     50\u001b[0m \u001b[39m# Save the resized image as a PNG\u001b[39;00m\n\u001b[1;32m---> 51\u001b[0m image\u001b[39m.\u001b[39;49msave(\u001b[39m\"\u001b[39;49m\u001b[39mSaved \u001b[39;49m\u001b[39m\"\u001b[39;49m \u001b[39m+\u001b[39;49m image_relPath \u001b[39m+\u001b[39;49m \u001b[39m\"\u001b[39;49m\u001b[39m to disk\u001b[39;49m\u001b[39m\"\u001b[39;49m)\n\u001b[0;32m     53\u001b[0m \u001b[39m# Write a new row to the file\u001b[39;00m\n\u001b[0;32m     54\u001b[0m writer\u001b[39m.\u001b[39mwriterow([image_relPath, image_caption])\n",
      "File \u001b[1;32mg:\\Miniconda\\miniconda3-windows\\lib\\site-packages\\PIL\\Image.py:2300\u001b[0m, in \u001b[0;36mImage.save\u001b[1;34m(self, fp, format, **params)\u001b[0m\n\u001b[0;32m   2298\u001b[0m         \u001b[39mformat\u001b[39m \u001b[39m=\u001b[39m EXTENSION[ext]\n\u001b[0;32m   2299\u001b[0m     \u001b[39mexcept\u001b[39;00m \u001b[39mKeyError\u001b[39;00m \u001b[39mas\u001b[39;00m e:\n\u001b[1;32m-> 2300\u001b[0m         \u001b[39mraise\u001b[39;00m \u001b[39mValueError\u001b[39;00m(\u001b[39mf\u001b[39m\u001b[39m\"\u001b[39m\u001b[39munknown file extension: \u001b[39m\u001b[39m{\u001b[39;00mext\u001b[39m}\u001b[39;00m\u001b[39m\"\u001b[39m) \u001b[39mfrom\u001b[39;00m \u001b[39me\u001b[39;00m\n\u001b[0;32m   2302\u001b[0m \u001b[39mif\u001b[39;00m \u001b[39mformat\u001b[39m\u001b[39m.\u001b[39mupper() \u001b[39mnot\u001b[39;00m \u001b[39min\u001b[39;00m SAVE:\n\u001b[0;32m   2303\u001b[0m     init()\n",
      "\u001b[1;31mValueError\u001b[0m: unknown file extension: .png to disk"
     ]
    }
   ],
   "source": [
    "import csv\n",
    "import urllib.request\n",
    "from PIL import Image\n",
    "\n",
    "# Open the CSV file in append mode\n",
    "with open('metdb/manifest.csv', 'a', newline='', encoding=\"utf-8\") as manifest:\n",
    "    with open('metdb/photos.csv', 'r', encoding=\"utf-8\") as photos:\n",
    "        # Open the CSV file and read the image path from it\n",
    "        reader = csv.reader(photos)\n",
    "\n",
    "        # Create a CSV writer object\n",
    "        writer = csv.writer(manifest)\n",
    "\n",
    "        # Reader iterator\n",
    "        photositerator = 0;\n",
    "        for row in reader:\n",
    "            # Skip the header row\n",
    "            if photositerator == 0:\n",
    "                photositerator += 1\n",
    "                continue\n",
    "\n",
    "            image_name = row[0]\n",
    "            image_path = row[2]\n",
    "            image_caption= row[8]\n",
    "            image_savePath = 'metdb/img/' + image_name + '.png'\n",
    "            image_relPath = 'img/' + image_name + '.png'\n",
    "\n",
    "            # Open the image from the URL and resize it\n",
    "            with urllib.request.urlopen(image_path) as url:\n",
    "                image = Image.open(url)\n",
    "                # Calculate the width and height of the image\n",
    "                width, height = image.size\n",
    "\n",
    "                # Pick the shortest dimension from width and height\n",
    "                if width < height:\n",
    "                    idealWidth = width\n",
    "                else:\n",
    "                    idealWidth = height\n",
    "\n",
    "                # Calculate the top-left and bottom-right coordinates of the cropping region\n",
    "                left = (width - idealWidth) // 2\n",
    "                top = (height - idealWidth) // 2\n",
    "                right = left + idealWidth\n",
    "                bottom = top + idealWidth\n",
    "\n",
    "                # Crop the image to the desired size\n",
    "                image = image.crop((left, top, right, bottom))\n",
    "                image = image.resize((512, 512),resample=Image.Dither.NONE)\n",
    "\n",
    "            # Save the resized image as a PNG\n",
    "            image.save(image_savePath, format='PNG')\n",
    "\n",
    "            print(\"Saved \" + image_relPath + \" to disk\")\n",
    "            \n",
    "            # Write a new row to the file\n",
    "            writer.writerow([image_relPath, image_caption])\n",
    "\n",
    "            print\n"
   ]
  }
 ],
 "metadata": {
  "kernelspec": {
   "display_name": "base",
   "language": "python",
   "name": "python3"
  },
  "language_info": {
   "codemirror_mode": {
    "name": "ipython",
    "version": 3
   },
   "file_extension": ".py",
   "mimetype": "text/x-python",
   "name": "python",
   "nbconvert_exporter": "python",
   "pygments_lexer": "ipython3",
   "version": "3.9.15"
  },
  "orig_nbformat": 4,
  "vscode": {
   "interpreter": {
    "hash": "569ffd9c5aca85493c3ef3686d6d56baf2e95325c24437585a72d55c24ad9c3d"
   }
  }
 },
 "nbformat": 4,
 "nbformat_minor": 2
}
