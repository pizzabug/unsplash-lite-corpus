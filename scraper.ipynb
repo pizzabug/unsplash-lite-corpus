{
 "cells": [
  {
   "cell_type": "code",
   "execution_count": 1,
   "metadata": {},
   "outputs": [
    {
     "name": "stdout",
     "output_type": "stream",
     "text": [
      "Collecting clip-client\n",
      "  Downloading clip-client-0.8.1.tar.gz (22 kB)\n",
      "  Preparing metadata (setup.py) ... \u001b[?25ldone\n",
      "\u001b[?25h\u001b[31mERROR: Could not find a version that satisfies the requirement PIL (from versions: none)\u001b[0m\u001b[31m\n",
      "\u001b[0m\u001b[31mERROR: No matching distribution found for PIL\u001b[0m\u001b[31m\n",
      "\u001b[0m"
     ]
    }
   ],
   "source": [
    "! pip install clip-client PIL"
   ]
  },
  {
   "cell_type": "code",
   "execution_count": 12,
   "metadata": {},
   "outputs": [
    {
     "name": "stderr",
     "output_type": "stream",
     "text": [
      "  0%|          | 2/25001 [00:00<3:15:02,  2.14it/s]"
     ]
    },
    {
     "name": "stdout",
     "output_type": "stream",
     "text": [
      "Saved img/XMyPniM9LF0.png to disk\n"
     ]
    },
    {
     "name": "stderr",
     "output_type": "stream",
     "text": [
      "  0%|          | 3/25001 [00:02<5:13:02,  1.33it/s]"
     ]
    },
    {
     "name": "stdout",
     "output_type": "stream",
     "text": [
      "Saved img/rDLBArZUl1c.png to disk\n"
     ]
    },
    {
     "name": "stderr",
     "output_type": "stream",
     "text": [
      "  0%|          | 4/25001 [00:02<5:18:00,  1.31it/s]"
     ]
    },
    {
     "name": "stdout",
     "output_type": "stream",
     "text": [
      "Saved img/cNDGZ2sQ3Bo.png to disk\n"
     ]
    },
    {
     "name": "stderr",
     "output_type": "stream",
     "text": [
      "  0%|          | 4/25001 [00:04<8:00:32,  1.15s/it]\n"
     ]
    },
    {
     "ename": "KeyboardInterrupt",
     "evalue": "",
     "output_type": "error",
     "traceback": [
      "\u001b[0;31m---------------------------------------------------------------------------\u001b[0m",
      "\u001b[0;31mKeyboardInterrupt\u001b[0m                         Traceback (most recent call last)",
      "Cell \u001b[0;32mIn[12], line 48\u001b[0m\n\u001b[1;32m     45\u001b[0m     bottom \u001b[39m=\u001b[39m top \u001b[39m+\u001b[39m idealWidth\n\u001b[1;32m     47\u001b[0m     \u001b[39m# Crop the image to the desired size\u001b[39;00m\n\u001b[0;32m---> 48\u001b[0m     image \u001b[39m=\u001b[39m image\u001b[39m.\u001b[39;49mcrop((left, top, right, bottom))\n\u001b[1;32m     49\u001b[0m     image \u001b[39m=\u001b[39m image\u001b[39m.\u001b[39mresize((\u001b[39m512\u001b[39m, \u001b[39m512\u001b[39m),resample\u001b[39m=\u001b[39mImage\u001b[39m.\u001b[39mDither\u001b[39m.\u001b[39mNONE)\n\u001b[1;32m     51\u001b[0m \u001b[39m# Save the resized image as a PNG\u001b[39;00m\n",
      "File \u001b[0;32m/usr/local/Caskroom/miniconda/base/envs/teeny/lib/python3.10/site-packages/PIL/Image.py:1211\u001b[0m, in \u001b[0;36mImage.crop\u001b[0;34m(self, box)\u001b[0m\n\u001b[1;32m   1208\u001b[0m \u001b[39melif\u001b[39;00m box[\u001b[39m3\u001b[39m] \u001b[39m<\u001b[39m box[\u001b[39m1\u001b[39m]:\n\u001b[1;32m   1209\u001b[0m     \u001b[39mraise\u001b[39;00m \u001b[39mValueError\u001b[39;00m(\u001b[39m\"\u001b[39m\u001b[39mCoordinate \u001b[39m\u001b[39m'\u001b[39m\u001b[39mlower\u001b[39m\u001b[39m'\u001b[39m\u001b[39m is less than \u001b[39m\u001b[39m'\u001b[39m\u001b[39mupper\u001b[39m\u001b[39m'\u001b[39m\u001b[39m\"\u001b[39m)\n\u001b[0;32m-> 1211\u001b[0m \u001b[39mself\u001b[39;49m\u001b[39m.\u001b[39;49mload()\n\u001b[1;32m   1212\u001b[0m \u001b[39mreturn\u001b[39;00m \u001b[39mself\u001b[39m\u001b[39m.\u001b[39m_new(\u001b[39mself\u001b[39m\u001b[39m.\u001b[39m_crop(\u001b[39mself\u001b[39m\u001b[39m.\u001b[39mim, box))\n",
      "File \u001b[0;32m/usr/local/Caskroom/miniconda/base/envs/teeny/lib/python3.10/site-packages/PIL/ImageFile.py:260\u001b[0m, in \u001b[0;36mImageFile.load\u001b[0;34m(self)\u001b[0m\n\u001b[1;32m    254\u001b[0m         \u001b[39mraise\u001b[39;00m \u001b[39mOSError\u001b[39;00m(\n\u001b[1;32m    255\u001b[0m             \u001b[39m\"\u001b[39m\u001b[39mimage file is truncated \u001b[39m\u001b[39m\"\u001b[39m\n\u001b[1;32m    256\u001b[0m             \u001b[39mf\u001b[39m\u001b[39m\"\u001b[39m\u001b[39m(\u001b[39m\u001b[39m{\u001b[39;00m\u001b[39mlen\u001b[39m(b)\u001b[39m}\u001b[39;00m\u001b[39m bytes not processed)\u001b[39m\u001b[39m\"\u001b[39m\n\u001b[1;32m    257\u001b[0m         )\n\u001b[1;32m    259\u001b[0m b \u001b[39m=\u001b[39m b \u001b[39m+\u001b[39m s\n\u001b[0;32m--> 260\u001b[0m n, err_code \u001b[39m=\u001b[39m decoder\u001b[39m.\u001b[39;49mdecode(b)\n\u001b[1;32m    261\u001b[0m \u001b[39mif\u001b[39;00m n \u001b[39m<\u001b[39m \u001b[39m0\u001b[39m:\n\u001b[1;32m    262\u001b[0m     \u001b[39mbreak\u001b[39;00m\n",
      "\u001b[0;31mKeyboardInterrupt\u001b[0m: "
     ]
    }
   ],
   "source": [
    "import csv\n",
    "from tqdm import tqdm\n",
    "import urllib.request\n",
    "from PIL import Image\n",
    "\n",
    "# Open the CSV file in append mode\n",
    "with open('db/manifest.csv', 'a', newline='', encoding=\"utf-8\") as manifest:\n",
    "    with open('db/photos.csv', 'r', encoding=\"utf-8\") as photos:\n",
    "        # Open the CSV file and read the image path from it\n",
    "        reader = csv.reader(photos)\n",
    "\n",
    "        # Create a CSV writer object\n",
    "        writer = csv.writer(manifest)\n",
    "\n",
    "        # Reader iterator\n",
    "        photositerator = 0;\n",
    "        for row in tqdm(list(reader)):\n",
    "            # Skip the header row\n",
    "            if photositerator == 0:\n",
    "                photositerator += 1\n",
    "                continue\n",
    "\n",
    "            image_name = row[0]\n",
    "            image_path = row[2]\n",
    "            image_caption= row[8]\n",
    "            image_savePath = 'db/img/' + image_name + '.png'\n",
    "            image_relPath = 'img/' + image_name + '.png'\n",
    "\n",
    "            # Open the image from the URL and resize it\n",
    "            with urllib.request.urlopen(image_path) as url:\n",
    "                image = Image.open(url)\n",
    "                # Calculate the width and height of the image\n",
    "                width, height = image.size\n",
    "\n",
    "                # Pick the shortest dimension from width and height\n",
    "                if width < height:\n",
    "                    idealWidth = width\n",
    "                else:\n",
    "                    idealWidth = height\n",
    "\n",
    "                # Calculate the top-left and bottom-right coordinates of the cropping region\n",
    "                left = (width - idealWidth) // 2\n",
    "                top = (height - idealWidth) // 2\n",
    "                right = left + idealWidth\n",
    "                bottom = top + idealWidth\n",
    "\n",
    "                # Crop the image to the desired size\n",
    "                image = image.crop((left, top, right, bottom))\n",
    "                image = image.resize((512, 512),resample=Image.Dither.NONE)\n",
    "\n",
    "            # Save the resized image as a PNG\n",
    "            image.save(image_savePath, format='PNG')\n",
    "\n",
    "            # print(\"Saved \" + image_relPath + \" to disk\")\n",
    "            \n",
    "            # Write a new row to the file\n",
    "            writer.writerow([image_relPath, image_caption])\n",
    "\n",
    "            print\n"
   ]
  }
 ],
 "metadata": {
  "kernelspec": {
   "display_name": "teeny",
   "language": "python",
   "name": "python3"
  },
  "language_info": {
   "codemirror_mode": {
    "name": "ipython",
    "version": 3
   },
   "file_extension": ".py",
   "mimetype": "text/x-python",
   "name": "python",
   "nbconvert_exporter": "python",
   "pygments_lexer": "ipython3",
   "version": "3.10.8"
  },
  "orig_nbformat": 4,
  "vscode": {
   "interpreter": {
    "hash": "5f7243c0bc9ce79bc91d756daeac53b33293fe3094ae31a3d6ccd8339f2a58a8"
   }
  }
 },
 "nbformat": 4,
 "nbformat_minor": 2
}
